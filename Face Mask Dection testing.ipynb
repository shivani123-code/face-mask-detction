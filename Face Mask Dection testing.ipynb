{
 "cells": [
  {
   "cell_type": "code",
   "execution_count": 2,
   "metadata": {},
   "outputs": [
    {
     "name": "stdout",
     "output_type": "stream",
     "text": [
      "Found 8805 images belonging to 3 classes.\n",
      "Found 1794 images belonging to 3 classes.\n"
     ]
    }
   ],
   "source": [
    "import numpy as np\n",
    "import tensorflow as tf\n",
    "import pandas as pd\n",
    "import matplotlib.pyplot as plt\n",
    "import os\n",
    "import xml.etree.ElementTree as ET\n",
    "import glob\n",
    "from PIL import Image\n",
    "from sklearn.model_selection import train_test_split\n",
    "from keras.models import Sequential\n",
    "from keras.layers import Conv2D, MaxPooling2D, Flatten, Dense, Dropout\n",
    "from keras.preprocessing.image import ImageDataGenerator\n",
    "from tensorflow.keras.callbacks import EarlyStopping\n",
    "from tensorflow.keras.callbacks import ReduceLROnPlateau\n",
    "from sklearn.metrics import confusion_matrix, classification_report\n",
    "from sklearn.metrics import precision_score, recall_score, accuracy_score,f1_score, classification_report\n",
    "import cv2\n",
    "import seaborn as sns\n",
    "\n",
    "\n",
    "train_data_path = 'C:/Users/hp/Downloads/Face Mask Detection System/Face Mask Detection System/Dataset'\n",
    "generate_data = 'C:/Users/hp/Downloads/Face Mask Detection System/Face Mask Detection System/Dataset'\n",
    "data = 'C:/Users/hp/Downloads/Face Mask Detection System/Face Mask Detection System/Dataset'\n",
    "\n",
    "\n",
    "train_gen = tf.keras.preprocessing.image.ImageDataGenerator(rescale= 1/255.,                                                                                                                   \n",
    "                                                           rotation_range=0.2,\n",
    "                                                           width_shift_range=0.2,\n",
    "                                                           height_shift_range=0.2,\n",
    "                                                           zoom_range = 0.2, \n",
    "                                                           horizontal_flip=True,\n",
    "                                                           validation_split = 0.02\n",
    "                                                            )\n",
    "\n",
    "test_gen = tf.keras.preprocessing.image.ImageDataGenerator(rescale= 1/255.,\n",
    "                                                           validation_split = 0.2\n",
    "                                                           )\n",
    "\n",
    "\n",
    "\n",
    "\n",
    "train_data = train_gen.flow_from_directory(train_data_path ,\n",
    "                                           target_size = (150,150),\n",
    "                                           class_mode = \"categorical\",\n",
    "                                           seed = 42,\n",
    "                                           subset = \"training\"\n",
    "                                           )\n",
    "\n",
    "test_data = test_gen.flow_from_directory(train_data_path  ,\n",
    "                                         target_size = (150,150),\n",
    "                                         class_mode = \"categorical\",\n",
    "                                         seed = 42,\n",
    "                                         subset = \"validation\"\n",
    "                                         )"
   ]
  },
  {
   "cell_type": "code",
   "execution_count": 3,
   "metadata": {},
   "outputs": [],
   "source": [
    "import numpy as np\n",
    "import tensorflow as tf\n",
    "import pandas as pd\n",
    "import matplotlib.pyplot as plt\n",
    "import os\n",
    "import xml.etree.ElementTree as ET\n",
    "import glob\n",
    "from PIL import Image\n",
    "from sklearn.model_selection import train_test_split\n",
    "from keras.models import Sequential\n",
    "from keras.layers import Conv2D, MaxPooling2D, Flatten, Dense, Dropout\n",
    "from keras.preprocessing.image import ImageDataGenerator\n",
    "from tensorflow.keras.callbacks import EarlyStopping\n",
    "from tensorflow.keras.callbacks import ReduceLROnPlateau\n",
    "from sklearn.metrics import confusion_matrix, classification_report\n",
    "from sklearn.metrics import precision_score, recall_score, accuracy_score,f1_score, classification_report\n",
    "import cv2\n",
    "import seaborn as sns"
   ]
  },
  {
   "cell_type": "code",
   "execution_count": 4,
   "metadata": {},
   "outputs": [
    {
     "data": {
      "text/plain": [
       "['1with_mask', '2without_mask', '3mask_weared_incorrect']"
      ]
     },
     "execution_count": 4,
     "metadata": {},
     "output_type": "execute_result"
    }
   ],
   "source": [
    "labels = list(train_data.class_indices.keys())\n",
    "\n",
    "labels"
   ]
  },
  {
   "cell_type": "code",
   "execution_count": 5,
   "metadata": {},
   "outputs": [],
   "source": [
    "from tensorflow import keras\n",
    "\n",
    "model_deploy = keras.models.load_model('Datasetfinal.h5')"
   ]
  },
  {
   "cell_type": "code",
   "execution_count": 11,
   "metadata": {},
   "outputs": [
    {
     "name": "stdout",
     "output_type": "stream",
     "text": [
      "276/276 [==============================] - 249s 900ms/step - loss: 0.0360 - accuracy: 0.9894\n",
      "Model Accuracy:  98.94 %\n"
     ]
    }
   ],
   "source": [
    "model_evaluation = model_deploy.evaluate(train_data)\n",
    "print(f\"Model Accuracy: {model_evaluation[1] * 100 : 0.2f} %\")"
   ]
  },
  {
   "cell_type": "code",
   "execution_count": 17,
   "metadata": {},
   "outputs": [
    {
     "name": "stdout",
     "output_type": "stream",
     "text": [
      "C:/Users/hp/Downloads/Face Mask Detection System/Face Mask Detection System/capture image\\opencv_frame.png written!\n",
      "Escape hit, closing...\n"
     ]
    }
   ],
   "source": [
    "import cv2\n",
    "import os\n",
    "\n",
    "img_name = \"opencv_frame.png\"\n",
    "img_dir = \"C:/Users/hp/Downloads/Face Mask Detection System/Face Mask Detection System/capture image\" # directory to save images\n",
    "if not os.path.exists(img_dir):\n",
    "    os.makedirs(img_dir)\n",
    "\n",
    "cam = cv2.VideoCapture(0)\n",
    "\n",
    "while True:\n",
    "    ret, frame = cam.read()\n",
    "    if not ret:\n",
    "        print(\"failed to grab frame\")\n",
    "        break\n",
    "    cv2.imshow(\"test\", frame)\n",
    "\n",
    "    k = cv2.waitKey(1)\n",
    "    if k%256 == 27:\n",
    "        print(\"Escape hit, closing...\")\n",
    "        break\n",
    "    elif k%256 == 32:\n",
    "        img_path = os.path.join(img_dir, img_name)\n",
    "        if os.path.exists(img_path):\n",
    "            if cv2.waitKey(0) == ord('y'):\n",
    "                os.remove(img_path)\n",
    "            else:\n",
    "                continue\n",
    "        cv2.imwrite(img_path, frame)\n",
    "        print(\"{} written!\".format(img_path))\n",
    "\n",
    "cam.release()\n",
    "cv2.destroyAllWindows()\n",
    "\n",
    "\n"
   ]
  },
  {
   "cell_type": "code",
   "execution_count": 18,
   "metadata": {},
   "outputs": [
    {
     "name": "stdout",
     "output_type": "stream",
     "text": [
      "C:/Users/hp/Downloads/Face Mask Detection System/Face Mask Detection System/capture image/opencv_frame.png overwritten with cropped image!\n"
     ]
    }
   ],
   "source": [
    "import cv2\n",
    "\n",
    "# Load the cascade classifier for detecting faces\n",
    "face_cascade = cv2.CascadeClassifier(cv2.data.haarcascades + \"haarcascade_frontalface_default.xml\")\n",
    "\n",
    "# Load the image\n",
    "img_path = \"C:/Users/hp/Downloads/Face Mask Detection System/Face Mask Detection System/capture image/opencv_frame.png\"\n",
    "img = cv2.imread(img_path)\n",
    "\n",
    "# Convert the image to grayscale\n",
    "gray = cv2.cvtColor(img, cv2.COLOR_BGR2GRAY)\n",
    "\n",
    "# Detect faces in the image\n",
    "faces = face_cascade.detectMultiScale(gray, 1.3, 5)\n",
    "\n",
    "# Crop the image to the detected face region\n",
    "if len(faces) > 0:\n",
    "    (x, y, w, h) = faces[0]\n",
    "    cropped = img[y:y+h, x:x+w]\n",
    "    # Overwrite the original image with the cropped image\n",
    "    cv2.imwrite(img_path, cropped)\n",
    "    print(\"{} overwritten with cropped image!\".format(img_path))\n",
    "else:\n",
    "    print(\"No face detected.\")"
   ]
  },
  {
   "cell_type": "code",
   "execution_count": 37,
   "metadata": {},
   "outputs": [
    {
     "name": "stdout",
     "output_type": "stream",
     "text": [
      "1/1 [==============================] - 0s 48ms/step\n",
      "With Mask: 0.3262265\n",
      "Without Mask: 0.062544644\n",
      "Incorrect Wear: 0.6112288\n",
      "0.3262265\n",
      "0.062544644\n",
      "0.6112288\n",
      "<keras.preprocessing.image.DirectoryIterator object at 0x000001EC0893C0D0>\n",
      "1/1 [==============================] - 0s 119ms/step\n",
      "[[0. 1. 0.]]\n"
     ]
    },
    {
     "data": {
      "text/plain": [
       "(-0.5, 149.5, 149.5, -0.5)"
      ]
     },
     "execution_count": 37,
     "metadata": {},
     "output_type": "execute_result"
    },
    {
     "data": {
      "image/png": "[encoded data removed]",
      "text/plain": [
       "<Figure size 800x800 with 1 Axes>"
      ]
     },
     "metadata": {},
     "output_type": "display_data"
    }
   ],
   "source": [
    "from keras.utils import img_to_array\n",
    "from keras.utils.image_utils import load_img\n",
    "import matplotlib.pyplot as plt\n",
    "import tensorflow as tf\n",
    "\n",
    "\n",
    "data = \"C:/Users/hp/Downloads/Face Mask Detection System/Face Mask Detection System/capture image/opencv_frame.png\"\n",
    "# data ='D:/main project/Face Mask Detection System/testdataset/download.jpg'\n",
    "#data = \"C:/Users/hp/Downloads/Face Mask Detection System/Face Mask Detection System/testdataset/2.jpg\"\n",
    "\n",
    "\n",
    "# Define the classes\n",
    "classes = ['With Mask', 'Without Mask','Incorrect Wear']\n",
    "\n",
    "image = cv2.imread(data)\n",
    "image = cv2.resize(image,(150, 150))\n",
    "image = np.expand_dims(image, axis=0)\n",
    "\n",
    "# Preprocess the image\n",
    "image = image.astype('float32') / 255.0\n",
    "\n",
    "# Use the model to make predictions on the image\n",
    "predictions = model_deploy.predict(image)\n",
    "\n",
    "\n",
    "# Print the probability of each class\n",
    "for i in range(len(classes)):\n",
    "    print(classes[i] + ': ' + str(predictions[0][i]))\n",
    "\n",
    "with_mask=predictions[0][0]\n",
    "without_mask=predictions[0][1]\n",
    "incorrect_wear=predictions[0][2] \n",
    "\n",
    "\n",
    "print(with_mask)\n",
    "print(without_mask)\n",
    "print(incorrect_wear)\n",
    "\n",
    "\n",
    "if 0.9<with_mask:\n",
    "    # print(\"person wear mask\")\n",
    "    ans=\"With_Mask\"\n",
    "elif incorrectwear_mask<0.1:\n",
    "    # print(\"person not wear mask\")\n",
    "    ans=\"incorrectwear_Mask\"\n",
    "else :\n",
    "    # print(\"mask not wear correct\");\n",
    "    ans=\"Without_Mask\"\n",
    "\n",
    "labels = []\n",
    "plt.figure(figsize=(8,8))\n",
    "print(test_data)\n",
    "# for i in range(len(test_data)):\n",
    "image = load_img(data,target_size=(150,150))\n",
    "# plt.imshow(image)\n",
    "image_arr = img_to_array(image)\n",
    "image_arr = np.array([image_arr])\n",
    "#print(image.shape)\n",
    "model_pred = model_deploy.predict(image_arr)\n",
    "print(model_pred)\n",
    "i = model_pred.argmax()\n",
    "plt.subplot(5,5,i+1)\n",
    "plt.imshow(image)\n",
    "plt.title(f\"Prediction:{ans}\")\n",
    "plt.subplots_adjust(top= 1.25)\n",
    "plt.axis(\"off\")"
   ]
  },
  {
   "cell_type": "code",
   "execution_count": null,
   "metadata": {},
   "outputs": [],
   "source": []
  }
 ],
 "metadata": {
  "kernelspec": {
   "display_name": "Python 3",
   "language": "python",
   "name": "python3"
  },
  "language_info": {
   "codemirror_mode": {
    "name": "ipython",
    "version": 3
   },
   "file_extension": ".py",
   "mimetype": "text/x-python",
   "name": "python",
   "nbconvert_exporter": "python",
   "pygments_lexer": "ipython3",
   "version": "3.9.13"
  },
  "orig_nbformat": 4
 },
 "nbformat": 4,
 "nbformat_minor": 2
}
